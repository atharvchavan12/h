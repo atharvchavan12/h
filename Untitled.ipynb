{
 "cells": [
  {
   "cell_type": "code",
   "execution_count": 1,
   "id": "0ee1138a-1339-4442-8523-54edc1994b63",
   "metadata": {},
   "outputs": [],
   "source": [
    "# read dateset\n"
   ]
  },
  {
   "cell_type": "code",
   "execution_count": null,
   "id": "0b201e30-3406-4466-9dce-38a31a4e986e",
   "metadata": {},
   "outputs": [],
   "source": [
    "#hello world\n"
   ]
  }
 ],
 "metadata": {
  "kernelspec": {
   "display_name": "Python 3 (ipykernel)",
   "language": "python",
   "name": "python3"
  },
  "language_info": {
   "codemirror_mode": {
    "name": "ipython",
    "version": 3
   },
   "file_extension": ".py",
   "mimetype": "text/x-python",
   "name": "python",
   "nbconvert_exporter": "python",
   "pygments_lexer": "ipython3",
   "version": "3.10.8"
  }
 },
 "nbformat": 4,
 "nbformat_minor": 5
}
